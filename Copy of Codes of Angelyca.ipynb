{
 "cells": [
  {
   "cell_type": "code",
   "execution_count": 1,
   "id": "48ec52b9-d90a-48d5-bae2-c95e893a2077",
   "metadata": {},
   "outputs": [
    {
     "ename": "ERROR",
     "evalue": "Error in ggplot(heart_data_tidy, aes(x = fasting_bs, y = rest_ecg, color = exercise_induced_angina)): could not find function \"ggplot\"\n",
     "output_type": "error",
     "traceback": [
      "Error in ggplot(heart_data_tidy, aes(x = fasting_bs, y = rest_ecg, color = exercise_induced_angina)): could not find function \"ggplot\"\nTraceback:\n"
     ]
    }
   ],
   "source": [
    "heart_plot_one <- heart_data_tidy|>\n",
    "    ggplot(aes(x= fasting_bs, y= rest_ecg, color = exercise_induced_angina))+ \n",
    "    geom_point(alpha= 0.5) +\n",
    "    labs(x= \"Fasting bs\", \n",
    "         y= \"Resting ecg\",\n",
    "         color = \"Diagnosis of exercise induced angina\") +\n",
    "    scale_color_manual(values = c(\"orange2\", \"steelblue2\")) + \n",
    "    theme(text = element_text(size = 15))\n",
    "\n",
    "heart_plot_one"
   ]
  },
  {
   "cell_type": "code",
   "execution_count": 2,
   "id": "021771c0-a652-420c-8b1a-bec347aa07a9",
   "metadata": {},
   "outputs": [
    {
     "ename": "ERROR",
     "evalue": "Error in ggplot(heart_data_tidy, aes(x = age, y = chol, color = exercise_induced_angina)): could not find function \"ggplot\"\n",
     "output_type": "error",
     "traceback": [
      "Error in ggplot(heart_data_tidy, aes(x = age, y = chol, color = exercise_induced_angina)): could not find function \"ggplot\"\nTraceback:\n"
     ]
    }
   ],
   "source": [
    "heart_plot_two <- heart_data_tidy|>\n",
    "    ggplot(aes(x= age, y= chol, color = exercise_induced_angina))+ \n",
    "    geom_point(alpha= 0.5) +\n",
    "    labs(x= \"Age\", \n",
    "         y= \"Cholesteral\",\n",
    "         color = \"Diagnosis of exercise induced angina\") +\n",
    "    scale_color_manual(values = c(\"orange2\", \"steelblue2\")) + \n",
    "    theme(text = element_text(size = 15))\n",
    "\n",
    "heart_plot_two"
   ]
  },
  {
   "cell_type": "code",
   "execution_count": 3,
   "id": "f4ee554f-bb49-4c6c-9eb8-3047e2edb50a",
   "metadata": {},
   "outputs": [
    {
     "ename": "ERROR",
     "evalue": "Error in ggplot(heart_data_tidy, aes(x = age, y = resting_bp, color = exercise_induced_angina)): could not find function \"ggplot\"\n",
     "output_type": "error",
     "traceback": [
      "Error in ggplot(heart_data_tidy, aes(x = age, y = resting_bp, color = exercise_induced_angina)): could not find function \"ggplot\"\nTraceback:\n"
     ]
    }
   ],
   "source": [
    "heart_plot_three <- heart_data_tidy|>\n",
    "    ggplot(aes(x= age, y= resting_bp, color = exercise_induced_angina))+ \n",
    "    geom_point(alpha= 0.5) +\n",
    "    labs(x= \"Age\", \n",
    "         y= \"Resting bp\",\n",
    "         color = \"Diagnosis of exercise induced angina\") +\n",
    "    scale_color_manual(values = c(\"orange2\", \"steelblue2\")) + \n",
    "    theme(text = element_text(size = 15))\n",
    "\n",
    "heart_plot_three"
   ]
  },
  {
   "cell_type": "code",
   "execution_count": 4,
   "id": "5097df66-5e87-4017-b1c0-16f3f50a3add",
   "metadata": {},
   "outputs": [
    {
     "ename": "ERROR",
     "evalue": "Error in ggplot(heart_data_tidy, aes(x = age, y = max_rate, color = exercise_induced_angina)): could not find function \"ggplot\"\n",
     "output_type": "error",
     "traceback": [
      "Error in ggplot(heart_data_tidy, aes(x = age, y = max_rate, color = exercise_induced_angina)): could not find function \"ggplot\"\nTraceback:\n"
     ]
    }
   ],
   "source": [
    "heart_plot_four <- heart_data_tidy|>\n",
    "    ggplot(aes(x= age, y= max_rate, color = exercise_induced_angina))+ \n",
    "    geom_point(alpha= 0.5) +\n",
    "    labs(x= \"Age\", \n",
    "         y= \"Max Rate\",\n",
    "         color = \"Diagnosis of exercise induced angina\") +\n",
    "    scale_color_manual(values = c(\"orange2\", \"steelblue2\")) + \n",
    "    theme(text = element_text(size = 15))\n",
    "\n",
    "heart_plot_four"
   ]
  },
  {
   "cell_type": "code",
   "execution_count": null,
   "id": "dde62a92-4d23-4c5f-b368-652b79cb3f1a",
   "metadata": {},
   "outputs": [],
   "source": [
    "heart_plot_five <- heart_data_tidy|>\n",
    "    ggplot(aes(x= chol, y= resting_bp, color = exercise_induced_angina))+ \n",
    "    geom_point(alpha= 0.5) +\n",
    "    labs(x= \"Cholesteral\", \n",
    "         y= \"Resting bp\",\n",
    "         color = \"Diagnosis of exercise induced angina\") +\n",
    "    scale_color_manual(values = c(\"orange2\", \"steelblue2\")) + \n",
    "    theme(text = element_text(size = 15))\n",
    "\n",
    "heart_plot_five"
   ]
  },
  {
   "cell_type": "code",
   "execution_count": null,
   "id": "0ee2bdd0-da99-42f3-8083-44313c660f39",
   "metadata": {},
   "outputs": [],
   "source": [
    "heart_plot_six <- heart_data_tidy|>\n",
    "    ggplot(aes(x= resting_bp, y= max_rate, color = exercise_induced_angina))+ \n",
    "    geom_point(alpha= 0.5) +\n",
    "    labs(x= \"Resting bp\", \n",
    "         y= \"Max Rate\",\n",
    "         color = \"Diagnosis of exercise induced angina\") +\n",
    "    scale_color_manual(values = c(\"orange2\", \"steelblue2\")) + \n",
    "    theme(text = element_text(size = 15))\n",
    "\n",
    "heart_plot_six"
   ]
  },
  {
   "cell_type": "code",
   "execution_count": null,
   "id": "9510bbd6-7204-4311-a47a-fef2e5620286",
   "metadata": {},
   "outputs": [],
   "source": [
    "heart_plot_seven <- heart_data_tidy|>\n",
    "    ggplot(aes(x= chol, y= max_rate, color = exercise_induced_angina))+ \n",
    "    geom_point(alpha= 0.5) +\n",
    "    labs(x= \"Cholesteral\", \n",
    "         y= \"Max Rate\",\n",
    "         color = \"Diagnosis of exercise induced angina\") +\n",
    "    scale_color_manual(values = c(\"orange2\", \"steelblue2\")) + \n",
    "    theme(text = element_text(size = 15))\n",
    "\n",
    "heart_plot_seven"
   ]
  },
  {
   "cell_type": "code",
   "execution_count": null,
   "id": "124730ec-e92c-4139-864b-c8443b462d25",
   "metadata": {},
   "outputs": [],
   "source": [
    "heart_plot_eight <- heart_data_tidy|>\n",
    "    ggplot(aes(x= ST_depression, y= max_rate, color = exercise_induced_angina))+ \n",
    "    geom_point(alpha= 0.5) +\n",
    "    labs(x= \"ST Depression\", \n",
    "         y= \"Max Rate\",\n",
    "         color = \"Diagnosis of exercise induced angina\") +\n",
    "    scale_color_manual(values = c(\"orange2\", \"steelblue2\")) + \n",
    "    theme(text = element_text(size = 15))\n",
    "\n",
    "heart_plot_eight"
   ]
  },
  {
   "cell_type": "code",
   "execution_count": null,
   "id": "656110c8-8fbd-4009-8dba-5841bef55a0f",
   "metadata": {},
   "outputs": [],
   "source": [
    "heart_plot_nine <- heart_data_tidy|>\n",
    "    ggplot(aes(x= ST_depression, y= chol, color = exercise_induced_angina))+ \n",
    "    geom_point(alpha= 0.5) +\n",
    "    labs(x= \"ST Depression\", \n",
    "         y= \"Cholesteral\",\n",
    "         color = \"Diagnosis of exercise induced angina\") +\n",
    "    scale_color_manual(values = c(\"orange2\", \"steelblue2\")) + \n",
    "    theme(text = element_text(size = 15))\n",
    "\n",
    "heart_plot_nine"
   ]
  },
  {
   "cell_type": "code",
   "execution_count": null,
   "id": "d4a28b6b-9fe4-4a73-a1d9-9eb0e0337cea",
   "metadata": {},
   "outputs": [],
   "source": [
    "heart_plot_ten <- heart_data_tidy|>\n",
    "    ggplot(aes(x= ST_depression, y= age, color = exercise_induced_angina))+ \n",
    "    geom_point(alpha= 0.5) +\n",
    "    labs(x= \"ST Depression\", \n",
    "         y= \"Age\",\n",
    "         color = \"Diagnosis of exercise induced angina\") +\n",
    "    scale_color_manual(values = c(\"orange2\", \"steelblue2\")) + \n",
    "    theme(text = element_text(size = 15))\n",
    "\n",
    "heart_plot_ten"
   ]
  },
  {
   "cell_type": "code",
   "execution_count": null,
   "id": "ebaec0eb-ac8a-48a4-921e-0903049453ce",
   "metadata": {},
   "outputs": [],
   "source": [
    "ggpairs(heart_data_tidy, title=\"correlogram with ggpairs()\") "
   ]
  }
 ],
 "metadata": {
  "kernelspec": {
   "display_name": "R",
   "language": "R",
   "name": "ir"
  },
  "language_info": {
   "codemirror_mode": "r",
   "file_extension": ".r",
   "mimetype": "text/x-r-source",
   "name": "R",
   "pygments_lexer": "r",
   "version": "4.2.2"
  }
 },
 "nbformat": 4,
 "nbformat_minor": 5
}
