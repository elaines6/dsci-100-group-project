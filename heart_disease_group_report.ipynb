{
 "cells": [
  {
   "cell_type": "code",
   "execution_count": 14,
   "id": "6f6095ad-6e50-4947-96c7-11e021f12bbe",
   "metadata": {
    "tags": []
   },
   "outputs": [
    {
     "name": "stderr",
     "output_type": "stream",
     "text": [
      "Updating HTML index of packages in '.Library'\n",
      "\n",
      "Making 'packages.html' ...\n",
      " done\n",
      "\n",
      "also installing the dependencies ‘ggplot2’, ‘ggstats’\n",
      "\n",
      "\n",
      "Warning message in install.packages(\"GGally\"):\n",
      "“installation of package ‘ggplot2’ had non-zero exit status”\n",
      "Warning message in install.packages(\"GGally\"):\n",
      "“installation of package ‘ggstats’ had non-zero exit status”\n",
      "Warning message in install.packages(\"GGally\"):\n",
      "“installation of package ‘GGally’ had non-zero exit status”\n",
      "Updating HTML index of packages in '.Library'\n",
      "\n",
      "Making 'packages.html' ...\n",
      " done\n",
      "\n"
     ]
    }
   ],
   "source": [
    "install.packages(\"kknn\")\n",
    "install.packages(\"GGally\")"
   ]
  },
  {
   "cell_type": "code",
   "execution_count": 13,
   "id": "50485799-1809-491a-995e-785ac169a88f",
   "metadata": {
    "tags": []
   },
   "outputs": [
    {
     "ename": "ERROR",
     "evalue": "Error: package or namespace load failed for ‘tidyverse’ in loadNamespace(j <- i[[1L]], c(lib.loc, .libPaths()), versionCheck = vI[[j]]):\n there is no package called ‘ggplot2’\n",
     "output_type": "error",
     "traceback": [
      "Error: package or namespace load failed for ‘tidyverse’ in loadNamespace(j <- i[[1L]], c(lib.loc, .libPaths()), versionCheck = vI[[j]]):\n there is no package called ‘ggplot2’\nTraceback:\n",
      "1. library(tidyverse)",
      "2. tryCatch({\n .     attr(package, \"LibPath\") <- which.lib.loc\n .     ns <- loadNamespace(package, lib.loc)\n .     env <- attachNamespace(ns, pos = pos, deps, exclude, include.only)\n . }, error = function(e) {\n .     P <- if (!is.null(cc <- conditionCall(e))) \n .         paste(\" in\", deparse(cc)[1L])\n .     else \"\"\n .     msg <- gettextf(\"package or namespace load failed for %s%s:\\n %s\", \n .         sQuote(package), P, conditionMessage(e))\n .     if (logical.return && !quietly) \n .         message(paste(\"Error:\", msg), domain = NA)\n .     else stop(msg, call. = FALSE, domain = NA)\n . })",
      "3. tryCatchList(expr, classes, parentenv, handlers)",
      "4. tryCatchOne(expr, names, parentenv, handlers[[1L]])",
      "5. value[[3L]](cond)",
      "6. stop(msg, call. = FALSE, domain = NA)"
     ]
    }
   ],
   "source": [
    "### Run this cell before continuing.\n",
    "library(tidyverse)\n",
    "library(repr)\n",
    "library(tidymodels)\n",
    "library(GGally)\n",
    "options(repr.matrix.max.rows = 6)"
   ]
  },
  {
   "cell_type": "markdown",
   "id": "6b56a041-ab98-471a-9ad3-c0796aaf4def",
   "metadata": {},
   "source": [
    "# Predicting The Occurrence of Exercised Induced-Angina by Analysis of Age and Maximum Heart Rate\n",
    "Angelyca  P, Jay P, Elaine S "
   ]
  },
  {
   "cell_type": "markdown",
   "id": "fea75301-27db-498c-84a3-ee93de672b33",
   "metadata": {},
   "source": [
    "# Introduction: \n",
    "\n",
    "### Background Information: \n",
    "\n",
    "Angina is categorized as a type of chest pain due to a reduced blood flow to the heart. Specific to this project, exercise induced angina is being analyzed and predicted. Exercise induced angina is a distinct class of angina, as the symptoms only occur when triggered by exercise. When the body is at rest, there is a lower demand of oxygen, allowing the heart to properly function despite the limiting amount of blood flow, with the absence of angina symptoms. Whereas, during exercise, the body will have an increased demand of oxygen, and thus blood flow. However, in this case, the heart is unable to function with the lack of oxygen, without experiencing chest pain sensations, or angina symptoms. Studies have shown that increasing age is often accompanied with a greater risk of experiencing angina (chest pain). \n",
    "\n",
    "In this project, maximum heart rate and age of an individual will be the two predictors used in classifying an unknown observation into the category of whether an individual will experience exercise induced angina. \n",
    "\n",
    "\n",
    "### Predictive Question: Will the individual experience exercise induced angina? \n",
    "\n",
    "\n",
    "To conduct our data analysis, a number of different combinations of two predictors will be tested, where the best combination will be chosen and used to be the \n",
    "the variables/columns of age and the max rate will be used to make predictions about the occurrence of exercise induced angina. Classification of the occurrence of exercise induced angina will be done through the use of a knn classification model. "
   ]
  },
  {
   "cell_type": "code",
   "execution_count": null,
   "id": "058eb911-8d65-496b-b103-855125d76cdc",
   "metadata": {
    "tags": []
   },
   "outputs": [],
   "source": [
    "### Downloading raw dataset from the web and renaming columns. \n",
    "\n",
    "url <- \"https://raw.githubusercontent.com/elaines6/dsci-100-group-project/main/processed.cleveland.data\"\n",
    "\n",
    "heart_raw_data <- read_csv(url, col_names = c(\"age\", \"sex\", \"chest_pain_type\", \"resting_bp\", \"chol\", \"fasting_bs\", \"rest_ecg\", \"max_rate\",\n",
    "                                             \"exercise_induced_angina\", \"ST_depression\", \"slope_peak_exercise\", \"major_vessels\", \"thal\", \"diagnosis_heart_disease\"))\n",
    "heart_data_tidy <- heart_raw_data |>\n",
    "    mutate(sex = as_factor(sex), chest_pain_type = as_factor(chest_pain_type), exercise_induced_angina = as_factor(exercise_induced_angina)) |>\n",
    "    mutate(sex = fct_recode(sex, \"Female\" = \"0\", \"Male\" = \"1\")) |>\n",
    "    mutate(exercise_induced_angina = fct_recode(exercise_induced_angina, \"Yes\" = \"1\", \"No\" = \"0\")) |>\n",
    "    mutate(chest_pain_type = fct_recode(chest_pain_type, \"Typical angina\" = \"1\", \"Atypical angina\" = \"2\", \"Non-anginal pain\" = \"3\", \"Asymptomatic\" = \"4\")) |>\n",
    "    filter(age != \"?\" & sex != \"?\"& chest_pain_type != \"?\"& resting_bp != \"?\"& max_rate!= \"?\"& exercise_induced_angina != \"?\")\n",
    "\n",
    "\n",
    "#what is this part for?!! \n",
    "unscaled_heart_data <- heart_data_tidy |>\n",
    "    select(resting_bp, max_rate, exercise_induced_angina) |>\n",
    "    mutate(resting_bp = as.integer(resting_bp), max_rate = as.integer(max_rate))\n",
    "\n",
    "\n",
    "#Checking if standardizing the data matters for plotting \n",
    "unscaled_heart_data_to_check <- heart_data_tidy |>\n",
    "    select(resting_bp, age, exercise_induced_angina) |>\n",
    "    mutate(resting_bp = as.integer(resting_bp), max_rate = as.integer(age))\n",
    "\n",
    "# After deciding the which plot to use, we decided to use heart_plot_four, which is age and max_rate \n",
    "# heart_plot_four presents the best data to use for a classification question/model \n",
    "# used ggcorrplot to summarize our process of testing variation of combinations and analyzing which duo is the best on \n",
    "\n",
    "final_unscaled_heart_data <- heart_data_tidy |>\n",
    "    select(age, max_rate, exercise_induced_angina) |>\n",
    "    mutate(age = as.integer(age), max_rate = as.integer(max_rate)) \n",
    "\n",
    "final_unscaled_heart_data "
   ]
  },
  {
   "cell_type": "code",
   "execution_count": null,
   "id": "bd03387f-5188-4780-b32f-a6bd19e39583",
   "metadata": {
    "tags": []
   },
   "outputs": [],
   "source": [
    "### Testing to see if there are any NA/missing values from the dataset.\n",
    "\n",
    "heart_raw_data[heart_raw_data == \"?\"] <- NA\n",
    "\n",
    "heart_raw_data %>%\n",
    "    map_df(~sum(is.na(.x)))"
   ]
  },
  {
   "cell_type": "code",
   "execution_count": 12,
   "id": "9a4eba2b-e5c4-48a4-a2aa-31eea97307f0",
   "metadata": {
    "tags": []
   },
   "outputs": [
    {
     "ename": "ERROR",
     "evalue": "Error in eval(expr, envir, enclos): object 'heart_data_tidy' not found\n",
     "output_type": "error",
     "traceback": [
      "Error in eval(expr, envir, enclos): object 'heart_data_tidy' not found\nTraceback:\n"
     ]
    }
   ],
   "source": [
    "### The clean and tidy data set. \n",
    "heart_data_tidy"
   ]
  },
  {
   "cell_type": "markdown",
   "id": "2208243e-b426-46da-829e-54e272aee2ed",
   "metadata": {},
   "source": [
    "From this cell to plot below is for checking whether the standardized data matters for deciding the best predictors"
   ]
  },
  {
   "cell_type": "code",
   "execution_count": null,
   "id": "aee77b9b-a387-4d80-8a6a-040ce3370116",
   "metadata": {
    "tags": []
   },
   "outputs": [],
   "source": [
    "#\n",
    "heart_recipe <- recipe(exercise_induced_angina ~ ., data = unscaled_heart_data_to_check) |>\n",
    "  step_scale(all_predictors()) |>\n",
    "  step_center(all_predictors()) \n",
    "heart_recipe"
   ]
  },
  {
   "cell_type": "code",
   "execution_count": null,
   "id": "e33f83c0-9989-4997-a821-8ddefefb3e58",
   "metadata": {
    "tags": []
   },
   "outputs": [],
   "source": [
    "scaled_heart_rate <- bake(heart_recipe, unscaled_heart_data_to_check)\n",
    "scaled_heart_rate"
   ]
  },
  {
   "cell_type": "code",
   "execution_count": null,
   "id": "1dd081d3-b5ce-4365-99b8-a3b7a1a31daf",
   "metadata": {
    "tags": []
   },
   "outputs": [],
   "source": [
    "heart_plot_testing <- scaled_heart_rate |>\n",
    "    ggplot(aes(x = age, y = resting_bp, color = exercise_induced_angina))+ \n",
    "    geom_point(alpha = 0.5) +\n",
    "    labs(x = \"Age (standardized)\", \n",
    "         y = \"Resting Blood Pressure (standardized)\",\n",
    "         color = \"Diagnosis of exercise induced angina\") +\n",
    "    scale_color_manual(values = c(\"orange2\", \"steelblue2\")) + \n",
    "    theme(text = element_text(size = 15))\n",
    "\n",
    "heart_plot_testing \n",
    "\n",
    "# can we get rid of this? what is the purpose of this graph ? is it just test if theres a difference between standardized and unstandardized "
   ]
  },
  {
   "cell_type": "code",
   "execution_count": null,
   "id": "1a9fae01-ff60-431d-a9fc-765198404912",
   "metadata": {
    "tags": []
   },
   "outputs": [],
   "source": [
    "# Getting the number of samples in the plot 4, but do I need to upsample this??\n",
    "final_unscaled_heart_data|>\n",
    "    group_by(exercise_induced_angina)|>\n",
    "    summarize(count= n())"
   ]
  },
  {
   "cell_type": "code",
   "execution_count": null,
   "id": "70d78c2e-b92f-4232-89cd-f9bb8e3e77ae",
   "metadata": {
    "tags": []
   },
   "outputs": [],
   "source": [
    "heart_plot_four <- heart_data_tidy |>\n",
    "    ggplot(aes(x = age, y = max_rate, color = exercise_induced_angina)) + \n",
    "    geom_point(alpha = 0.5) +\n",
    "    labs(x = \"Age\", \n",
    "         y = \"Max Rate\",\n",
    "         color = \"Diagnosis of exercise induced angina\") +\n",
    "    scale_color_manual(values = c(\"orange2\", \"steelblue2\")) + \n",
    "    theme(text = element_text(size = 15))\n",
    "\n",
    "heart_plot_four"
   ]
  },
  {
   "cell_type": "code",
   "execution_count": null,
   "id": "297e64c4-836e-44ab-9d97-3fe5892790f8",
   "metadata": {
    "tags": []
   },
   "outputs": [],
   "source": [
    "#Getting the average values of the each columns. This means that I cannot get the average of everything.  \n",
    "\n",
    "predictors_of_heart_data <- heart_data_tidy\n",
    "mean_of_columns <- colMeans(predictors_of_heart_data) \n",
    "mean_of_columns\n",
    "\n",
    "frame_of_mean <- tibble( row.names=c(\"age\", \"sex\", \"chest_pain_type\", \"resting_bp\", \"chol\", \"fasting_bs\", \"rest_ecg\", \"max_rate\",\n",
    "                                             \"exercise_induced_angina\", \"ST_depression\", \"slope_peak_exercise\", \"major_vessels\", \"thal\", \"diagnosis_heart_disease\"), mean_of_columns)\n",
    "frame_of_mean"
   ]
  },
  {
   "cell_type": "code",
   "execution_count": null,
   "id": "660660f8-7a1f-40d2-8435-816423126245",
   "metadata": {
    "tags": []
   },
   "outputs": [],
   "source": [
    "#Getting K value which has the highgest accuracy\n",
    "heart_split<- initial_split(heart_data_tidy, prop= 0.75, strata= exercise_induced_angina)\n",
    "heart_train<- training(heart_split)\n",
    "heart_test<- testing(heart_split) "
   ]
  },
  {
   "cell_type": "code",
   "execution_count": null,
   "id": "a4d0139e-698e-421e-8e7d-4f29bd6a667e",
   "metadata": {
    "tags": []
   },
   "outputs": [],
   "source": [
    "# Getting the proportion of the induced_angina in the training set \n",
    "heart_proportions <- heart_train |>\n",
    "                      group_by(exercise_induced_angina) |>\n",
    "                      summarize(n = n()) |>\n",
    "                      mutate(percent = 100*n/nrow(heart_train))\n",
    "\n",
    "heart_proportions"
   ]
  },
  {
   "cell_type": "code",
   "execution_count": null,
   "id": "0f9e9cc5-fd69-446e-bc9e-0225b755c1d7",
   "metadata": {
    "tags": []
   },
   "outputs": [],
   "source": [
    "#creating a recipe for predicting the class of exericse induced angina based on the two predictors of age and max rate \n",
    "heart_recipe <- recipe(exercise_induced_angina ~ age + max_rate, data = heart_train) |>\n",
    "  step_scale(all_predictors()) |>\n",
    "  step_center(all_predictors())"
   ]
  },
  {
   "cell_type": "code",
   "execution_count": null,
   "id": "db631c72-448a-4ab1-aede-9c9d7969def3",
   "metadata": {
    "tags": []
   },
   "outputs": [],
   "source": [
    "knn_spec <- nearest_neighbor(weight_func = \"rectangular\", \n",
    "                             neighbors = tune()) |>\n",
    "  set_engine(\"kknn\") |>\n",
    "  set_mode(\"classification\")\n"
   ]
  },
  {
   "cell_type": "code",
   "execution_count": null,
   "id": "7f788c62-a170-4b93-a64a-264e2a179ee8",
   "metadata": {
    "tags": []
   },
   "outputs": [],
   "source": [
    "heart_vfold <- vfold_cv(heart_train, v = 10, strata = exercise_induced_angina)\n",
    "\n",
    "\n",
    "k_vals <- tibble(neighbors = seq(from = 1, to = 50, by = 2))\n",
    "\n",
    "knn_results <- workflow() |>\n",
    "  add_recipe(heart_recipe) |>\n",
    "  add_model(knn_spec) |>\n",
    "  tune_grid(resamples = heart_vfold, grid = k_vals) |>\n",
    "  collect_metrics() \n",
    "\n",
    "accuracies <- knn_results |>\n",
    "  filter(.metric == \"accuracy\")\n",
    "\n",
    "accuracies\n",
    "\n",
    "accuracy_versus_k <- ggplot(accuracies, aes(x = neighbors, y = mean)) +\n",
    "                     geom_point() +\n",
    "                     geom_line() +\n",
    "                     labs(x = \"Neighbors\", y = \"Accuracy Estimate\") +\n",
    "                     theme(text = element_text(size = 20)) +\n",
    "                     scale_x_continuous(breaks = seq(0, 50, by = 2)) +\n",
    "                     scale_y_continuous(limits = c(0.4, 1.0))\n",
    "accuracy_versus_k"
   ]
  },
  {
   "cell_type": "code",
   "execution_count": null,
   "id": "8f1d74a6-48fd-43b6-a276-0fb44715a544",
   "metadata": {
    "tags": []
   },
   "outputs": [],
   "source": [
    "final_heart_spec <- nearest_neighbor(weight_func = \"rectangular\", neighbors = 42) |>\n",
    "       set_engine(\"kknn\") |>\n",
    "       set_mode(\"classification\")\n",
    "\n",
    "final_heart_fit <- workflow() |>\n",
    "             add_recipe(heart_recipe) |>\n",
    "             add_model(final_heart_spec) |>\n",
    "            fit(data = heart_train)\n",
    "final_heart_fit"
   ]
  },
  {
   "cell_type": "code",
   "execution_count": null,
   "id": "835a1f15-dbaf-4b74-a2a1-38ee1c68b5a0",
   "metadata": {},
   "outputs": [],
   "source": [
    "heart_predictions <- predict(final_heart_fit, heart_test) |>\n",
    "                        bind_cols(heart_test)\n",
    "\n",
    "heart_predictions\n",
    "\n",
    "heart_metrics <- heart_predictions |> metrics(truth = exercise_induced_angina, estimate = .pred_class)\n",
    "heart_conf_mat <- heart_predictions |>\n",
    "                        conf_mat(truth = exercise_induced_angina, estimate = .pred_class) \n",
    "heart_metrics\n",
    "heart_conf_mat"
   ]
  },
  {
   "cell_type": "code",
   "execution_count": null,
   "id": "d37a6648-d37d-4ccb-a72f-6792eff92c05",
   "metadata": {
    "tags": []
   },
   "outputs": [],
   "source": [
    "False negative top right and false positive left bottom and true negative left top  true negative false negative is more serious. "
   ]
  },
  {
   "cell_type": "markdown",
   "id": "d3983e79-9279-45db-b6bb-cd044b4557eb",
   "metadata": {},
   "source": [
    "# Discussion \n",
    "\n",
    "#### Summarize your findings here!! \n",
    "\n",
    "#### What impact could such findings have? \n",
    "Such findings of this data analysis would be able to predict whether or not individuals will experience exercise induced angina, based on their maximum heart rate and age. \n",
    "\n",
    "\n",
    "#### What future questions could this lead to?\n",
    "What other predictors could be used to accurately predict whether an individual will exercise induced angina ? Can exercise induced angina be a predictor for further underlying cardiac health issues (if an individual experiences exercise induced angina, are they at a higher risk for cardiac arrest, stroke, and other complications?)\n",
    "\n",
    "\n",
    "\n"
   ]
  },
  {
   "cell_type": "markdown",
   "id": "d0ec0790-51a5-429a-8080-2410180cf8e9",
   "metadata": {},
   "source": [
    "### References: (cite these at the end) \n",
    "\n",
    "https://archive.ics.uci.edu/dataset/45/heart+disease\n",
    "\n",
    "\n",
    "https://www.ahajournals.org/doi/10.1161/01.CIR.0000086898.96021.B9#:~:text=Pain%20in%20the%20left%20chest,more%20frequent%20with%20advancing%20age.\n"
   ]
  },
  {
   "cell_type": "code",
   "execution_count": null,
   "id": "150f9464-8f13-478f-9f5d-0994eb51fef3",
   "metadata": {},
   "outputs": [],
   "source": []
  }
 ],
 "metadata": {
  "kernelspec": {
   "display_name": "R",
   "language": "R",
   "name": "ir"
  },
  "language_info": {
   "codemirror_mode": "r",
   "file_extension": ".r",
   "mimetype": "text/x-r-source",
   "name": "R",
   "pygments_lexer": "r",
   "version": "4.2.2"
  }
 },
 "nbformat": 4,
 "nbformat_minor": 5
}
